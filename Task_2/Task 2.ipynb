{
 "cells": [
  {
   "cell_type": "code",
   "execution_count": 1,
   "id": "7fa5c340",
   "metadata": {},
   "outputs": [],
   "source": [
    "import sqlite3\n",
    "import pandas as pd\n",
    "import numpy as np\n",
    "import sys\n",
    "sys.path.append('C:/Users/Archiebald/Moons/Task_1')\n",
    "from jupiter import Moons"
   ]
  },
  {
   "cell_type": "code",
   "execution_count": 2,
   "id": "d861d016",
   "metadata": {},
   "outputs": [],
   "source": [
    "sys.path.append('C:/Users/Archiebald/Moons/Task_1')"
   ]
  },
  {
   "cell_type": "code",
   "execution_count": 3,
   "id": "a957e37c",
   "metadata": {},
   "outputs": [],
   "source": [
    "jupiter_moons = Moons(\"jupiter_kepler.db\", \"data/\")"
   ]
  },
  {
   "cell_type": "code",
   "execution_count": 4,
   "id": "2fbbf364",
   "metadata": {},
   "outputs": [
    {
     "data": {
      "text/html": [
       "<div>\n",
       "<style scoped>\n",
       "    .dataframe tbody tr th:only-of-type {\n",
       "        vertical-align: middle;\n",
       "    }\n",
       "\n",
       "    .dataframe tbody tr th {\n",
       "        vertical-align: top;\n",
       "    }\n",
       "\n",
       "    .dataframe thead th {\n",
       "        text-align: right;\n",
       "    }\n",
       "</style>\n",
       "<table border=\"1\" class=\"dataframe\">\n",
       "  <thead>\n",
       "    <tr style=\"text-align: right;\">\n",
       "      <th></th>\n",
       "      <th>moon</th>\n",
       "      <th>period_days</th>\n",
       "      <th>distance_km</th>\n",
       "      <th>radius_km</th>\n",
       "      <th>mag</th>\n",
       "      <th>mass_kg</th>\n",
       "      <th>group</th>\n",
       "      <th>ecc</th>\n",
       "      <th>inclination_deg</th>\n",
       "    </tr>\n",
       "  </thead>\n",
       "  <tbody>\n",
       "    <tr>\n",
       "      <th>0</th>\n",
       "      <td>Adrastea</td>\n",
       "      <td>0.298</td>\n",
       "      <td>129000.0</td>\n",
       "      <td>8.2</td>\n",
       "      <td>NaN</td>\n",
       "      <td>NaN</td>\n",
       "      <td>Inner</td>\n",
       "      <td>0.001500</td>\n",
       "      <td>0.03</td>\n",
       "    </tr>\n",
       "    <tr>\n",
       "      <th>1</th>\n",
       "      <td>Aitne</td>\n",
       "      <td>730.000</td>\n",
       "      <td>23231000.0</td>\n",
       "      <td>1.5</td>\n",
       "      <td>22.7</td>\n",
       "      <td>NaN</td>\n",
       "      <td>Carme</td>\n",
       "      <td>0.264000</td>\n",
       "      <td>165.00</td>\n",
       "    </tr>\n",
       "    <tr>\n",
       "      <th>2</th>\n",
       "      <td>Amalthea</td>\n",
       "      <td>0.498</td>\n",
       "      <td>181400.0</td>\n",
       "      <td>83.5</td>\n",
       "      <td>14.1</td>\n",
       "      <td>2.080000e+18</td>\n",
       "      <td>Inner</td>\n",
       "      <td>0.003190</td>\n",
       "      <td>0.37</td>\n",
       "    </tr>\n",
       "    <tr>\n",
       "      <th>3</th>\n",
       "      <td>Ananke</td>\n",
       "      <td>630.000</td>\n",
       "      <td>21300000.0</td>\n",
       "      <td>14.0</td>\n",
       "      <td>18.9</td>\n",
       "      <td>NaN</td>\n",
       "      <td>Ananke</td>\n",
       "      <td>0.174725</td>\n",
       "      <td>148.60</td>\n",
       "    </tr>\n",
       "    <tr>\n",
       "      <th>4</th>\n",
       "      <td>Aoede</td>\n",
       "      <td>761.000</td>\n",
       "      <td>24000000.0</td>\n",
       "      <td>2.0</td>\n",
       "      <td>22.5</td>\n",
       "      <td>NaN</td>\n",
       "      <td>Pasiphae</td>\n",
       "      <td>0.432000</td>\n",
       "      <td>158.00</td>\n",
       "    </tr>\n",
       "  </tbody>\n",
       "</table>\n",
       "</div>"
      ],
      "text/plain": [
       "       moon  period_days  distance_km  radius_km   mag       mass_kg  \\\n",
       "0  Adrastea        0.298     129000.0        8.2   NaN           NaN   \n",
       "1     Aitne      730.000   23231000.0        1.5  22.7           NaN   \n",
       "2  Amalthea        0.498     181400.0       83.5  14.1  2.080000e+18   \n",
       "3    Ananke      630.000   21300000.0       14.0  18.9           NaN   \n",
       "4     Aoede      761.000   24000000.0        2.0  22.5           NaN   \n",
       "\n",
       "      group       ecc  inclination_deg  \n",
       "0     Inner  0.001500             0.03  \n",
       "1     Carme  0.264000           165.00  \n",
       "2     Inner  0.003190             0.37  \n",
       "3    Ananke  0.174725           148.60  \n",
       "4  Pasiphae  0.432000           158.00  "
      ]
     },
     "execution_count": 4,
     "metadata": {},
     "output_type": "execute_result"
    }
   ],
   "source": [
    "jupiter_moons.all_data().head()"
   ]
  },
  {
   "cell_type": "code",
   "execution_count": 5,
   "id": "f2928ed0",
   "metadata": {},
   "outputs": [],
   "source": [
    "jupiter_moons.convert_distance(\"km\", \"distance_km\")\n",
    "jupiter_moons.convert_time(\"days\",\"period_days\")\n",
    "jupiter_moons.gen_sma(\"semi_major_axis\",\"distance_m\",\"ecc\")\n",
    "jupiter_moons.prepare_data(\"period_s\",\"distance_m\")"
   ]
  },
  {
   "cell_type": "code",
   "execution_count": 6,
   "id": "473430fa",
   "metadata": {},
   "outputs": [
    {
     "data": {
      "text/html": [
       "<div>\n",
       "<style scoped>\n",
       "    .dataframe tbody tr th:only-of-type {\n",
       "        vertical-align: middle;\n",
       "    }\n",
       "\n",
       "    .dataframe tbody tr th {\n",
       "        vertical-align: top;\n",
       "    }\n",
       "\n",
       "    .dataframe thead th {\n",
       "        text-align: right;\n",
       "    }\n",
       "</style>\n",
       "<table border=\"1\" class=\"dataframe\">\n",
       "  <thead>\n",
       "    <tr style=\"text-align: right;\">\n",
       "      <th></th>\n",
       "      <th>moon</th>\n",
       "      <th>period_days</th>\n",
       "      <th>distance_km</th>\n",
       "      <th>radius_km</th>\n",
       "      <th>mag</th>\n",
       "      <th>mass_kg</th>\n",
       "      <th>group</th>\n",
       "      <th>ecc</th>\n",
       "      <th>inclination_deg</th>\n",
       "      <th>distance_m</th>\n",
       "      <th>period_s</th>\n",
       "      <th>semi_major_axis</th>\n",
       "      <th>T_squared</th>\n",
       "      <th>a_cubed</th>\n",
       "    </tr>\n",
       "  </thead>\n",
       "  <tbody>\n",
       "    <tr>\n",
       "      <th>0</th>\n",
       "      <td>Adrastea</td>\n",
       "      <td>0.298</td>\n",
       "      <td>129000.0</td>\n",
       "      <td>8.2</td>\n",
       "      <td>NaN</td>\n",
       "      <td>NaN</td>\n",
       "      <td>Inner</td>\n",
       "      <td>0.001500</td>\n",
       "      <td>0.03</td>\n",
       "      <td>1.290000e+08</td>\n",
       "      <td>25747.2</td>\n",
       "      <td>1.291938e+08</td>\n",
       "      <td>6.629183e+08</td>\n",
       "      <td>2.146689e+24</td>\n",
       "    </tr>\n",
       "    <tr>\n",
       "      <th>1</th>\n",
       "      <td>Aitne</td>\n",
       "      <td>730.000</td>\n",
       "      <td>23231000.0</td>\n",
       "      <td>1.5</td>\n",
       "      <td>22.7</td>\n",
       "      <td>NaN</td>\n",
       "      <td>Carme</td>\n",
       "      <td>0.264000</td>\n",
       "      <td>165.00</td>\n",
       "      <td>2.323100e+10</td>\n",
       "      <td>63072000.0</td>\n",
       "      <td>3.156386e+10</td>\n",
       "      <td>3.978077e+15</td>\n",
       "      <td>1.253729e+31</td>\n",
       "    </tr>\n",
       "    <tr>\n",
       "      <th>2</th>\n",
       "      <td>Amalthea</td>\n",
       "      <td>0.498</td>\n",
       "      <td>181400.0</td>\n",
       "      <td>83.5</td>\n",
       "      <td>14.1</td>\n",
       "      <td>2.080000e+18</td>\n",
       "      <td>Inner</td>\n",
       "      <td>0.003190</td>\n",
       "      <td>0.37</td>\n",
       "      <td>1.814000e+08</td>\n",
       "      <td>43027.2</td>\n",
       "      <td>1.819805e+08</td>\n",
       "      <td>1.851340e+09</td>\n",
       "      <td>5.969141e+24</td>\n",
       "    </tr>\n",
       "    <tr>\n",
       "      <th>3</th>\n",
       "      <td>Ananke</td>\n",
       "      <td>630.000</td>\n",
       "      <td>21300000.0</td>\n",
       "      <td>14.0</td>\n",
       "      <td>18.9</td>\n",
       "      <td>NaN</td>\n",
       "      <td>Ananke</td>\n",
       "      <td>0.174725</td>\n",
       "      <td>148.60</td>\n",
       "      <td>2.130000e+10</td>\n",
       "      <td>54432000.0</td>\n",
       "      <td>2.580957e+10</td>\n",
       "      <td>2.962843e+15</td>\n",
       "      <td>9.663597e+30</td>\n",
       "    </tr>\n",
       "    <tr>\n",
       "      <th>4</th>\n",
       "      <td>Aoede</td>\n",
       "      <td>761.000</td>\n",
       "      <td>24000000.0</td>\n",
       "      <td>2.0</td>\n",
       "      <td>22.5</td>\n",
       "      <td>NaN</td>\n",
       "      <td>Pasiphae</td>\n",
       "      <td>0.432000</td>\n",
       "      <td>158.00</td>\n",
       "      <td>2.400000e+10</td>\n",
       "      <td>65750400.0</td>\n",
       "      <td>4.225352e+10</td>\n",
       "      <td>4.323115e+15</td>\n",
       "      <td>1.382400e+31</td>\n",
       "    </tr>\n",
       "  </tbody>\n",
       "</table>\n",
       "</div>"
      ],
      "text/plain": [
       "       moon  period_days  distance_km  radius_km   mag       mass_kg  \\\n",
       "0  Adrastea        0.298     129000.0        8.2   NaN           NaN   \n",
       "1     Aitne      730.000   23231000.0        1.5  22.7           NaN   \n",
       "2  Amalthea        0.498     181400.0       83.5  14.1  2.080000e+18   \n",
       "3    Ananke      630.000   21300000.0       14.0  18.9           NaN   \n",
       "4     Aoede      761.000   24000000.0        2.0  22.5           NaN   \n",
       "\n",
       "      group       ecc  inclination_deg    distance_m    period_s  \\\n",
       "0     Inner  0.001500             0.03  1.290000e+08     25747.2   \n",
       "1     Carme  0.264000           165.00  2.323100e+10  63072000.0   \n",
       "2     Inner  0.003190             0.37  1.814000e+08     43027.2   \n",
       "3    Ananke  0.174725           148.60  2.130000e+10  54432000.0   \n",
       "4  Pasiphae  0.432000           158.00  2.400000e+10  65750400.0   \n",
       "\n",
       "   semi_major_axis     T_squared       a_cubed  \n",
       "0     1.291938e+08  6.629183e+08  2.146689e+24  \n",
       "1     3.156386e+10  3.978077e+15  1.253729e+31  \n",
       "2     1.819805e+08  1.851340e+09  5.969141e+24  \n",
       "3     2.580957e+10  2.962843e+15  9.663597e+30  \n",
       "4     4.225352e+10  4.323115e+15  1.382400e+31  "
      ]
     },
     "execution_count": 6,
     "metadata": {},
     "output_type": "execute_result"
    }
   ],
   "source": [
    "jupiter_moons.all_data().head()"
   ]
  },
  {
   "cell_type": "code",
   "execution_count": 7,
   "id": "5d1b07ca",
   "metadata": {
    "scrolled": true
   },
   "outputs": [
    {
     "data": {
      "image/png": "[encoded data removed]",
      "text/plain": [
       "<Figure size 800x600 with 1 Axes>"
      ]
     },
     "metadata": {},
     "output_type": "display_data"
    }
   ],
   "source": [
    "jupiter_moons.plot_scatter(\"T_squared\",\"a_cubed\")"
   ]
  },
  {
   "cell_type": "code",
   "execution_count": 8,
   "id": "8ab15d1d",
   "metadata": {
    "scrolled": true
   },
   "outputs": [
    {
     "data": {
      "image/png": "[encoded data removed]",
      "text/plain": [
       "<Figure size 1200x500 with 2 Axes>"
      ]
     },
     "metadata": {},
     "output_type": "display_data"
    },
    {
     "name": "stdout",
     "output_type": "stream",
     "text": [
      " r2_Score: 0.9874698094589166\n",
      "mean squared error: 3.9427519223478265e+28\n",
      "Line gradient from model:  [3.10779319e-16]\n"
     ]
    }
   ],
   "source": [
    "jupiter_moons.test_train(\"T_squared\",\"a_cubed\")"
   ]
  },
  {
   "cell_type": "code",
   "execution_count": 10,
   "id": "6e6590c6",
   "metadata": {},
   "outputs": [
    {
     "ename": "TypeError",
     "evalue": "unsupported format string passed to numpy.ndarray.__format__",
     "output_type": "error",
     "traceback": [
      "\u001b[1;31m---------------------------------------------------------------------------\u001b[0m",
      "\u001b[1;31mTypeError\u001b[0m                                 Traceback (most recent call last)",
      "Cell \u001b[1;32mIn[10], line 1\u001b[0m\n\u001b[1;32m----> 1\u001b[0m jupiter_moons\u001b[38;5;241m.\u001b[39mestimate_planet_mass()\n",
      "File \u001b[1;32mC:\\Users/Archiebald/Moons/Task_1\\jupiter.py:258\u001b[0m, in \u001b[0;36mMoons.estimate_planet_mass\u001b[1;34m(self)\u001b[0m\n\u001b[0;32m    256\u001b[0m G \u001b[38;5;241m=\u001b[39m \u001b[38;5;241m6.67430e-11\u001b[39m\n\u001b[0;32m    257\u001b[0m mass_of_jupiter \u001b[38;5;241m=\u001b[39m (\u001b[38;5;241m4\u001b[39m \u001b[38;5;241m*\u001b[39m np\u001b[38;5;241m.\u001b[39mpi\u001b[38;5;241m*\u001b[39m\u001b[38;5;241m*\u001b[39m\u001b[38;5;241m2\u001b[39m \u001b[38;5;241m*\u001b[39m slope) \u001b[38;5;241m/\u001b[39m G\n\u001b[1;32m--> 258\u001b[0m \u001b[38;5;28mprint\u001b[39m(\u001b[38;5;124mf\u001b[39m\u001b[38;5;124m\"\u001b[39m\u001b[38;5;124mEstimated mass of Jupiter: \u001b[39m\u001b[38;5;132;01m{\u001b[39;00mmass_of_jupiter\u001b[38;5;132;01m:\u001b[39;00m\u001b[38;5;124m.2\u001b[39m\u001b[38;5;132;01m}\u001b[39;00m\u001b[38;5;124m kg\u001b[39m\u001b[38;5;124m\"\u001b[39m)\n",
      "\u001b[1;31mTypeError\u001b[0m: unsupported format string passed to numpy.ndarray.__format__"
     ]
    }
   ],
   "source": [
    "jupiter_moons.estimate_planet_mass()"
   ]
  },
  {
   "cell_type": "code",
   "execution_count": null,
   "id": "2763e187",
   "metadata": {},
   "outputs": [],
   "source": []
  }
 ],
 "metadata": {
  "kernelspec": {
   "display_name": "Python 3 (ipykernel)",
   "language": "python",
   "name": "python3"
  },
  "language_info": {
   "codemirror_mode": {
    "name": "ipython",
    "version": 3
   },
   "file_extension": ".py",
   "mimetype": "text/x-python",
   "name": "python",
   "nbconvert_exporter": "python",
   "pygments_lexer": "ipython3",
   "version": "3.11.5"
  }
 },
 "nbformat": 4,
 "nbformat_minor": 5
}
