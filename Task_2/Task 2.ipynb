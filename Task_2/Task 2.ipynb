{
 "cells": [
  {
   "cell_type": "code",
   "execution_count": 1,
   "id": "7fa5c340",
   "metadata": {},
   "outputs": [
    {
     "ename": "SyntaxError",
     "evalue": "expected '(' (jupiter.py, line 200)",
     "output_type": "error",
     "traceback": [
      "Traceback \u001b[1;36m(most recent call last)\u001b[0m:\n",
      "\u001b[0m  File \u001b[0;32mD:\\Documents\\Programmes\\Anaconda\\Lib\\site-packages\\IPython\\core\\interactiveshell.py:3526\u001b[0m in \u001b[0;35mrun_code\u001b[0m\n    exec(code_obj, self.user_global_ns, self.user_ns)\u001b[0m\n",
      "\u001b[1;36m  Cell \u001b[1;32mIn[1], line 6\u001b[1;36m\n\u001b[1;33m    from jupiter import Moons\u001b[1;36m\n",
      "\u001b[1;36m  File \u001b[1;32mC:\\Users/Archiebald/Moons/Task_1\\jupiter.py:200\u001b[1;36m\u001b[0m\n\u001b[1;33m    def gen_sma:\u001b[0m\n\u001b[1;37m               ^\u001b[0m\n\u001b[1;31mSyntaxError\u001b[0m\u001b[1;31m:\u001b[0m expected '('\n"
     ]
    }
   ],
   "source": [
    "import sqlite3\n",
    "import pandas as pd\n",
    "import numpy as np\n",
    "import sys\n",
    "sys.path.append('C:/Users/Archiebald/Moons/Task_1')\n",
    "from jupiter import Moons"
   ]
  },
  {
   "cell_type": "code",
   "execution_count": null,
   "id": "fc242b98",
   "metadata": {},
   "outputs": [],
   "source": [
    "sys.path.append('C:/Users/Archiebald/Moons/Task_1')"
   ]
  },
  {
   "cell_type": "code",
   "execution_count": null,
   "id": "a957e37c",
   "metadata": {},
   "outputs": [],
   "source": [
    "jupiter_moons = Moons(\"jupiter_kepler.db\", \"data/\")"
   ]
  },
  {
   "cell_type": "code",
   "execution_count": null,
   "id": "2fbbf364",
   "metadata": {},
   "outputs": [],
   "source": [
    "jupiter_moons.all_data().head()"
   ]
  },
  {
   "cell_type": "code",
   "execution_count": null,
   "id": "e1eff7cd",
   "metadata": {},
   "outputs": [],
   "source": [
    "jupiter_moons.convert_distance(\"km\", \"radius_km\")\n",
    "jupiter_moons.convert_time(\"days\",\"period_days\")\n",
    "jupiter_moons.all_data().head()"
   ]
  },
  {
   "cell_type": "code",
   "execution_count": null,
   "id": "473430fa",
   "metadata": {},
   "outputs": [],
   "source": [
    "jupiter_moons.gen_sma()"
   ]
  },
  {
   "cell_type": "code",
   "execution_count": null,
   "id": "d911f46f",
   "metadata": {},
   "outputs": [],
   "source": []
  },
  {
   "cell_type": "code",
   "execution_count": null,
   "id": "5d1b07ca",
   "metadata": {},
   "outputs": [],
   "source": []
  },
  {
   "cell_type": "code",
   "execution_count": null,
   "id": "04aeed16",
   "metadata": {},
   "outputs": [],
   "source": []
  },
  {
   "cell_type": "code",
   "execution_count": null,
   "id": "8ab15d1d",
   "metadata": {},
   "outputs": [],
   "source": []
  }
 ],
 "metadata": {
  "kernelspec": {
   "display_name": "Python 3 (ipykernel)",
   "language": "python",
   "name": "python3"
  },
  "language_info": {
   "codemirror_mode": {
    "name": "ipython",
    "version": 3
   },
   "file_extension": ".py",
   "mimetype": "text/x-python",
   "name": "python",
   "nbconvert_exporter": "python",
   "pygments_lexer": "ipython3",
   "version": "3.11.5"
  }
 },
 "nbformat": 4,
 "nbformat_minor": 5
}
